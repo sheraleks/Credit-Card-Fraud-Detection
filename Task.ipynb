{
 "nbformat": 4,
 "nbformat_minor": 2,
 "metadata": {
  "language_info": {
   "name": "python",
   "codemirror_mode": {
    "name": "ipython",
    "version": 3
   },
   "version": "3.7.4-final"
  },
  "orig_nbformat": 2,
  "file_extension": ".py",
  "mimetype": "text/x-python",
  "name": "python",
  "npconvert_exporter": "python",
  "pygments_lexer": "ipython3",
  "version": 3,
  "kernelspec": {
   "name": "python3",
   "display_name": "Python 3"
  }
 },
 "cells": [
  {
   "cell_type": "markdown",
   "metadata": {},
   "source": [
    "# Задание\n",
    "Напишите, какие вы знаете способы борьбы с несбалансированными классами и почему с ними нужно бороться, какие метрики вы будете использовать при оценке результатов. На примере датасета https://www.kaggle.com/mlg-ulb/creditcardfraud продемонстрируйте, как применять описанные вами методы и как они сказываются на результатах работы алгоритмов классификации."
   ]
  },
  {
   "cell_type": "code",
   "execution_count": 108,
   "metadata": {},
   "outputs": [
    {
     "output_type": "execute_result",
     "data": {
      "text/plain": "            Time         V1         V2        V3        V4        V5  \\\n0            0.0  -1.359807  -0.072781  2.536347  1.378155 -0.338321   \n1            0.0   1.191857   0.266151  0.166480  0.448154  0.060018   \n2            1.0  -1.358354  -1.340163  1.773209  0.379780 -0.503198   \n3            1.0  -0.966272  -0.185226  1.792993 -0.863291 -0.010309   \n4            2.0  -1.158233   0.877737  1.548718  0.403034 -0.407193   \n...          ...        ...        ...       ...       ...       ...   \n284802  172786.0 -11.881118  10.071785 -9.834783 -2.066656 -5.364473   \n284803  172787.0  -0.732789  -0.055080  2.035030 -0.738589  0.868229   \n284804  172788.0   1.919565  -0.301254 -3.249640 -0.557828  2.630515   \n284805  172788.0  -0.240440   0.530483  0.702510  0.689799 -0.377961   \n284806  172792.0  -0.533413  -0.189733  0.703337 -0.506271 -0.012546   \n\n              V6        V7        V8        V9  ...       V21       V22  \\\n0       0.462388  0.239599  0.098698  0.363787  ... -0.018307  0.277838   \n1      -0.082361 -0.078803  0.085102 -0.255425  ... -0.225775 -0.638672   \n2       1.800499  0.791461  0.247676 -1.514654  ...  0.247998  0.771679   \n3       1.247203  0.237609  0.377436 -1.387024  ... -0.108300  0.005274   \n4       0.095921  0.592941 -0.270533  0.817739  ... -0.009431  0.798278   \n...          ...       ...       ...       ...  ...       ...       ...   \n284802 -2.606837 -4.918215  7.305334  1.914428  ...  0.213454  0.111864   \n284803  1.058415  0.024330  0.294869  0.584800  ...  0.214205  0.924384   \n284804  3.031260 -0.296827  0.708417  0.432454  ...  0.232045  0.578229   \n284805  0.623708 -0.686180  0.679145  0.392087  ...  0.265245  0.800049   \n284806 -0.649617  1.577006 -0.414650  0.486180  ...  0.261057  0.643078   \n\n             V23       V24       V25       V26       V27       V28  Amount  \\\n0      -0.110474  0.066928  0.128539 -0.189115  0.133558 -0.021053  149.62   \n1       0.101288 -0.339846  0.167170  0.125895 -0.008983  0.014724    2.69   \n2       0.909412 -0.689281 -0.327642 -0.139097 -0.055353 -0.059752  378.66   \n3      -0.190321 -1.175575  0.647376 -0.221929  0.062723  0.061458  123.50   \n4      -0.137458  0.141267 -0.206010  0.502292  0.219422  0.215153   69.99   \n...          ...       ...       ...       ...       ...       ...     ...   \n284802  1.014480 -0.509348  1.436807  0.250034  0.943651  0.823731    0.77   \n284803  0.012463 -1.016226 -0.606624 -0.395255  0.068472 -0.053527   24.79   \n284804 -0.037501  0.640134  0.265745 -0.087371  0.004455 -0.026561   67.88   \n284805 -0.163298  0.123205 -0.569159  0.546668  0.108821  0.104533   10.00   \n284806  0.376777  0.008797 -0.473649 -0.818267 -0.002415  0.013649  217.00   \n\n        Class  \n0           0  \n1           0  \n2           0  \n3           0  \n4           0  \n...       ...  \n284802      0  \n284803      0  \n284804      0  \n284805      0  \n284806      0  \n\n[284807 rows x 31 columns]",
      "text/html": "<div>\n<style scoped>\n    .dataframe tbody tr th:only-of-type {\n        vertical-align: middle;\n    }\n\n    .dataframe tbody tr th {\n        vertical-align: top;\n    }\n\n    .dataframe thead th {\n        text-align: right;\n    }\n</style>\n<table border=\"1\" class=\"dataframe\">\n  <thead>\n    <tr style=\"text-align: right;\">\n      <th></th>\n      <th>Time</th>\n      <th>V1</th>\n      <th>V2</th>\n      <th>V3</th>\n      <th>V4</th>\n      <th>V5</th>\n      <th>V6</th>\n      <th>V7</th>\n      <th>V8</th>\n      <th>V9</th>\n      <th>...</th>\n      <th>V21</th>\n      <th>V22</th>\n      <th>V23</th>\n      <th>V24</th>\n      <th>V25</th>\n      <th>V26</th>\n      <th>V27</th>\n      <th>V28</th>\n      <th>Amount</th>\n      <th>Class</th>\n    </tr>\n  </thead>\n  <tbody>\n    <tr>\n      <td>0</td>\n      <td>0.0</td>\n      <td>-1.359807</td>\n      <td>-0.072781</td>\n      <td>2.536347</td>\n      <td>1.378155</td>\n      <td>-0.338321</td>\n      <td>0.462388</td>\n      <td>0.239599</td>\n      <td>0.098698</td>\n      <td>0.363787</td>\n      <td>...</td>\n      <td>-0.018307</td>\n      <td>0.277838</td>\n      <td>-0.110474</td>\n      <td>0.066928</td>\n      <td>0.128539</td>\n      <td>-0.189115</td>\n      <td>0.133558</td>\n      <td>-0.021053</td>\n      <td>149.62</td>\n      <td>0</td>\n    </tr>\n    <tr>\n      <td>1</td>\n      <td>0.0</td>\n      <td>1.191857</td>\n      <td>0.266151</td>\n      <td>0.166480</td>\n      <td>0.448154</td>\n      <td>0.060018</td>\n      <td>-0.082361</td>\n      <td>-0.078803</td>\n      <td>0.085102</td>\n      <td>-0.255425</td>\n      <td>...</td>\n      <td>-0.225775</td>\n      <td>-0.638672</td>\n      <td>0.101288</td>\n      <td>-0.339846</td>\n      <td>0.167170</td>\n      <td>0.125895</td>\n      <td>-0.008983</td>\n      <td>0.014724</td>\n      <td>2.69</td>\n      <td>0</td>\n    </tr>\n    <tr>\n      <td>2</td>\n      <td>1.0</td>\n      <td>-1.358354</td>\n      <td>-1.340163</td>\n      <td>1.773209</td>\n      <td>0.379780</td>\n      <td>-0.503198</td>\n      <td>1.800499</td>\n      <td>0.791461</td>\n      <td>0.247676</td>\n      <td>-1.514654</td>\n      <td>...</td>\n      <td>0.247998</td>\n      <td>0.771679</td>\n      <td>0.909412</td>\n      <td>-0.689281</td>\n      <td>-0.327642</td>\n      <td>-0.139097</td>\n      <td>-0.055353</td>\n      <td>-0.059752</td>\n      <td>378.66</td>\n      <td>0</td>\n    </tr>\n    <tr>\n      <td>3</td>\n      <td>1.0</td>\n      <td>-0.966272</td>\n      <td>-0.185226</td>\n      <td>1.792993</td>\n      <td>-0.863291</td>\n      <td>-0.010309</td>\n      <td>1.247203</td>\n      <td>0.237609</td>\n      <td>0.377436</td>\n      <td>-1.387024</td>\n      <td>...</td>\n      <td>-0.108300</td>\n      <td>0.005274</td>\n      <td>-0.190321</td>\n      <td>-1.175575</td>\n      <td>0.647376</td>\n      <td>-0.221929</td>\n      <td>0.062723</td>\n      <td>0.061458</td>\n      <td>123.50</td>\n      <td>0</td>\n    </tr>\n    <tr>\n      <td>4</td>\n      <td>2.0</td>\n      <td>-1.158233</td>\n      <td>0.877737</td>\n      <td>1.548718</td>\n      <td>0.403034</td>\n      <td>-0.407193</td>\n      <td>0.095921</td>\n      <td>0.592941</td>\n      <td>-0.270533</td>\n      <td>0.817739</td>\n      <td>...</td>\n      <td>-0.009431</td>\n      <td>0.798278</td>\n      <td>-0.137458</td>\n      <td>0.141267</td>\n      <td>-0.206010</td>\n      <td>0.502292</td>\n      <td>0.219422</td>\n      <td>0.215153</td>\n      <td>69.99</td>\n      <td>0</td>\n    </tr>\n    <tr>\n      <td>...</td>\n      <td>...</td>\n      <td>...</td>\n      <td>...</td>\n      <td>...</td>\n      <td>...</td>\n      <td>...</td>\n      <td>...</td>\n      <td>...</td>\n      <td>...</td>\n      <td>...</td>\n      <td>...</td>\n      <td>...</td>\n      <td>...</td>\n      <td>...</td>\n      <td>...</td>\n      <td>...</td>\n      <td>...</td>\n      <td>...</td>\n      <td>...</td>\n      <td>...</td>\n      <td>...</td>\n    </tr>\n    <tr>\n      <td>284802</td>\n      <td>172786.0</td>\n      <td>-11.881118</td>\n      <td>10.071785</td>\n      <td>-9.834783</td>\n      <td>-2.066656</td>\n      <td>-5.364473</td>\n      <td>-2.606837</td>\n      <td>-4.918215</td>\n      <td>7.305334</td>\n      <td>1.914428</td>\n      <td>...</td>\n      <td>0.213454</td>\n      <td>0.111864</td>\n      <td>1.014480</td>\n      <td>-0.509348</td>\n      <td>1.436807</td>\n      <td>0.250034</td>\n      <td>0.943651</td>\n      <td>0.823731</td>\n      <td>0.77</td>\n      <td>0</td>\n    </tr>\n    <tr>\n      <td>284803</td>\n      <td>172787.0</td>\n      <td>-0.732789</td>\n      <td>-0.055080</td>\n      <td>2.035030</td>\n      <td>-0.738589</td>\n      <td>0.868229</td>\n      <td>1.058415</td>\n      <td>0.024330</td>\n      <td>0.294869</td>\n      <td>0.584800</td>\n      <td>...</td>\n      <td>0.214205</td>\n      <td>0.924384</td>\n      <td>0.012463</td>\n      <td>-1.016226</td>\n      <td>-0.606624</td>\n      <td>-0.395255</td>\n      <td>0.068472</td>\n      <td>-0.053527</td>\n      <td>24.79</td>\n      <td>0</td>\n    </tr>\n    <tr>\n      <td>284804</td>\n      <td>172788.0</td>\n      <td>1.919565</td>\n      <td>-0.301254</td>\n      <td>-3.249640</td>\n      <td>-0.557828</td>\n      <td>2.630515</td>\n      <td>3.031260</td>\n      <td>-0.296827</td>\n      <td>0.708417</td>\n      <td>0.432454</td>\n      <td>...</td>\n      <td>0.232045</td>\n      <td>0.578229</td>\n      <td>-0.037501</td>\n      <td>0.640134</td>\n      <td>0.265745</td>\n      <td>-0.087371</td>\n      <td>0.004455</td>\n      <td>-0.026561</td>\n      <td>67.88</td>\n      <td>0</td>\n    </tr>\n    <tr>\n      <td>284805</td>\n      <td>172788.0</td>\n      <td>-0.240440</td>\n      <td>0.530483</td>\n      <td>0.702510</td>\n      <td>0.689799</td>\n      <td>-0.377961</td>\n      <td>0.623708</td>\n      <td>-0.686180</td>\n      <td>0.679145</td>\n      <td>0.392087</td>\n      <td>...</td>\n      <td>0.265245</td>\n      <td>0.800049</td>\n      <td>-0.163298</td>\n      <td>0.123205</td>\n      <td>-0.569159</td>\n      <td>0.546668</td>\n      <td>0.108821</td>\n      <td>0.104533</td>\n      <td>10.00</td>\n      <td>0</td>\n    </tr>\n    <tr>\n      <td>284806</td>\n      <td>172792.0</td>\n      <td>-0.533413</td>\n      <td>-0.189733</td>\n      <td>0.703337</td>\n      <td>-0.506271</td>\n      <td>-0.012546</td>\n      <td>-0.649617</td>\n      <td>1.577006</td>\n      <td>-0.414650</td>\n      <td>0.486180</td>\n      <td>...</td>\n      <td>0.261057</td>\n      <td>0.643078</td>\n      <td>0.376777</td>\n      <td>0.008797</td>\n      <td>-0.473649</td>\n      <td>-0.818267</td>\n      <td>-0.002415</td>\n      <td>0.013649</td>\n      <td>217.00</td>\n      <td>0</td>\n    </tr>\n  </tbody>\n</table>\n<p>284807 rows × 31 columns</p>\n</div>"
     },
     "metadata": {},
     "execution_count": 108
    }
   ],
   "source": [
    "# Загрузим данные в DataFrame\n",
    "import pandas as pd\n",
    "df = pd.read_csv('creditcard.csv')\n",
    "df"
   ]
  },
  {
   "cell_type": "markdown",
   "metadata": {},
   "source": [
    "# Проблема\n",
    "Из 284,807 транзакций только 492 транзакции являются мошенническими (примерно 0.172%  из всех транзакций). Таким образом, мы имеем дело с очень сильно несбалансированными классами. "
   ]
  },
  {
   "cell_type": "markdown",
   "metadata": {},
   "source": [
    "# Дисбаланс классов\n",
    "Явление, возникающее в задачах классификации, когда классы представлены неравно (объектов одного класса существенно меньше, чем объектов другого класса). Для того, чтобы классы считались сбалансированными, одного из классов должно быть не меньше 10%. \n",
    "\n",
    "Неспособность это учесть пораждает неточности в предсказаниях и снижает эффективность множества алгоритмов классификации. А также создаёт сложности при проведении кросс-валидации модели, поскольку необходимо  проводить стратификацию (следить за сохранением пропорций классов при создании подмножеств). \n",
    "\n",
    "В нашем случае, при такой балансировке классов, алгоритм будет стремиться определить каждую транзакцию как \"честную\"."
   ]
  },
  {
   "cell_type": "markdown",
   "metadata": {},
   "source": [
    "# Способы решения проблемы\n",
    "1. Ресемплинг - ручная балансировка, путем сокращения преобладающего класса или расширения меньшего класса.\n",
    "2. Взвешивание классов (при составлении функции потерь элементы меньшего класса будут включаться с определенным весом).\n",
    "3. Применение устойчивых к дисбалансу алгоритмов (градиентный бустинг, вероятностные алгоритмы, случайный лес).\n",
    "\n",
    "Источники:\n",
    "- https://habr.com/ru/post/349078/\n",
    "- https://towardsdatascience.com/practical-tips-for-class-imbalance-in-binary-classification-6ee29bcdb8a7"
   ]
  },
  {
   "cell_type": "markdown",
   "metadata": {},
   "source": [
    "# Метрики для оценки классификаторов\n",
    "Введем некоторые обозначения:\n",
    "- TP = True Positive. Мошенническая транзакция предсказана как мошенническая.\n",
    "- TN = True Negative. Честная транзакция предсказана как честная.\n",
    "- FP = False Positive. Честная транзакция предсказана как мошенническая.\n",
    "- FN = False Negative. Мошенническая транзакция предсказана как честная.\n",
    "\n",
    "## Аккуратность (Accuracy)\n",
    "Соотношение верных предсказаний ко всем предсказаниям.\n",
    " \n",
    "$Accuracy = \\frac{TP + TN}{TP + TN + FP + FN}$\n",
    "\n",
    "На сбалансированных классах метрика даёт хорошие результаты,но в нашем случае результаты будут необъективными. Если положить, что все рассматриваемые транзакции честные (\"наивный\" классификатор), то точность будет следующей:\n",
    "\n",
    "$Accuracy = \\frac{0 + TN}{0 + TN + 0 + FN} = \\frac{284,807 - 492}{284,807 - 492 + 492} = 99.8$% \n",
    "\n",
    "## Полнота (Recall)\n",
    "Показывает соотношение, которое определяет долю правильно распознанных мошеннических транзакций.\n",
    "\n",
    "$Recall = \\frac{TP}{TP + FN}$\n",
    "\n",
    "## Точность (Precision)\n",
    "Отвечает на вопрос, какая доля из предсказанных мошеннических транзакций действительно является мошенническими.\n",
    "\n",
    "$Recall = \\frac{TP}{TP + FP}$\n",
    "\n",
    "## F1-мера (F1 Score)\n",
    "Собирает в единую метрику полноту и точность как гармоническое среднее этих величин. \n",
    "\n",
    "$F1 Score = 2\\frac{Recall*Precision}{Recall + Precision}$\n",
    "\n",
    "Источники:\n",
    "- https://medium.com/thalus-ai/performance-metrics-for-classification-problems-in-machine-learning-part-i-b085d432082b\n"
   ]
  },
  {
   "cell_type": "code",
   "execution_count": 109,
   "metadata": {},
   "outputs": [],
   "source": [
    "# Разработаем функцию для тестирования моделей\n",
    "from sklearn.model_selection import train_test_split\n",
    "from sklearn.metrics import accuracy_score, recall_score, f1_score, precision_score\n",
    "def test_model(learner, X_train, X_test, Y_train, Y_test):\n",
    "    # Проводить разбиение на тестовое и обучающее подмножество будем с учетом баланса классов\n",
    "    learner = learner.fit(X_train, Y_train)\n",
    "    predictions_test = learner.predict(X_test)\n",
    "\n",
    "    results = {}\n",
    "    results[\"accuracy\"] = accuracy_score(Y_test, predictions_test)\n",
    "    results[\"precision\"] = precision_score(Y_test, predictions_test)\n",
    "    results[\"recall\"] = recall_score(Y_test, predictions_test)\n",
    "    results[\"f1\"] = f1_score(Y_test, predictions_test)\n",
    "\n",
    "    return results"
   ]
  },
  {
   "cell_type": "code",
   "execution_count": 110,
   "metadata": {},
   "outputs": [],
   "source": [
    "class_raw = df[\"Class\"]\n",
    "features_raw = df.drop(\"Class\", axis=1)"
   ]
  },
  {
   "cell_type": "code",
   "execution_count": 111,
   "metadata": {},
   "outputs": [],
   "source": [
    "X_train, X_test, Y_train, Y_test = train_test_split(features_raw, class_raw, test_size=0.2, stratify=class_raw)"
   ]
  },
  {
   "cell_type": "markdown",
   "metadata": {},
   "source": [
    "## Протестируем несколько моделей без изменения исходных данных"
   ]
  },
  {
   "cell_type": "code",
   "execution_count": 112,
   "metadata": {},
   "outputs": [
    {
     "output_type": "execute_result",
     "data": {
      "text/plain": "{'accuracy': 0.9990871107053826,\n 'precision': 0.7555555555555555,\n 'recall': 0.6938775510204082,\n 'f1': 0.723404255319149}"
     },
     "metadata": {},
     "execution_count": 112
    }
   ],
   "source": [
    "# Логистическая регрессия\n",
    "from sklearn.linear_model import LogisticRegression\n",
    "clf_A = LogisticRegression()\n",
    "test_model(clf_A, X_train, X_test, Y_train, Y_test)"
   ]
  },
  {
   "cell_type": "markdown",
   "metadata": {},
   "source": [
    "Пропускается около 30% моошеннических транзакций, но точность их выявления достаточно высока (мало ложных срабатываний на честных транзакциях)."
   ]
  },
  {
   "cell_type": "markdown",
   "metadata": {},
   "source": [
    "## Используем алгоритмы, устойчивые к дисбалансу классов"
   ]
  },
  {
   "cell_type": "code",
   "execution_count": 113,
   "metadata": {},
   "outputs": [
    {
     "output_type": "execute_result",
     "data": {
      "text/plain": "{'accuracy': 0.9995962220427653,\n 'precision': 0.9629629629629629,\n 'recall': 0.7959183673469388,\n 'f1': 0.871508379888268}"
     },
     "metadata": {},
     "execution_count": 113
    }
   ],
   "source": [
    "from sklearn.ensemble import RandomForestClassifier\n",
    "clf_D = RandomForestClassifier()\n",
    "test_model(clf_D, X_train, X_test, Y_train, Y_test)"
   ]
  },
  {
   "cell_type": "markdown",
   "metadata": {},
   "source": [
    "Случайный лес показывает очень хорошие результаты. Большинство мошеннических транзакций выявлено правильно, а также честные транзакции определяются мошенническими очень редко."
   ]
  },
  {
   "cell_type": "code",
   "execution_count": 114,
   "metadata": {},
   "outputs": [
    {
     "output_type": "execute_result",
     "data": {
      "text/plain": "{'accuracy': 0.9989817773252344,\n 'precision': 0.8448275862068966,\n 'recall': 0.5,\n 'f1': 0.6282051282051282}"
     },
     "metadata": {},
     "execution_count": 114
    }
   ],
   "source": [
    "from sklearn.ensemble import GradientBoostingClassifier\n",
    "clf_B = GradientBoostingClassifier()\n",
    "test_model(clf_B, X_train, X_test, Y_train, Y_test)"
   ]
  },
  {
   "cell_type": "markdown",
   "metadata": {},
   "source": [
    "Модель определяет около половины мошеннических транзакций правильно, а также редко помечает честные транзакции мошенническими."
   ]
  },
  {
   "cell_type": "code",
   "execution_count": 115,
   "metadata": {},
   "outputs": [
    {
     "output_type": "execute_result",
     "data": {
      "text/plain": "{'accuracy': 0.9929777746567887,\n 'precision': 0.16294642857142858,\n 'recall': 0.7448979591836735,\n 'f1': 0.2673992673992674}"
     },
     "metadata": {},
     "execution_count": 115
    }
   ],
   "source": [
    "from sklearn.naive_bayes import GaussianNB\n",
    "clf_C = GaussianNB()\n",
    "test_model(clf_C, X_train, X_test, Y_train, Y_test)"
   ]
  },
  {
   "cell_type": "markdown",
   "metadata": {},
   "source": [
    "Мошеннические транзакции выявляются очень часто, но при этом очень много честных транзакций помечается мошенническими."
   ]
  },
  {
   "cell_type": "markdown",
   "metadata": {},
   "source": [
    "## Проведем взвешивание классов (в тех моделях, где это возможно)"
   ]
  },
  {
   "cell_type": "code",
   "execution_count": 116,
   "metadata": {},
   "outputs": [
    {
     "output_type": "execute_result",
     "data": {
      "text/plain": "{'accuracy': 0.9775288789017239,\n 'precision': 0.06671554252199413,\n 'recall': 0.9285714285714286,\n 'f1': 0.12448700410396717}"
     },
     "metadata": {},
     "execution_count": 116
    }
   ],
   "source": [
    "# Логистическая регрессия\n",
    "from sklearn.linear_model import LogisticRegression\n",
    "clf_A = LogisticRegression(class_weight = 'balanced')\n",
    "test_model(clf_A, X_train, X_test, Y_train, Y_test)"
   ]
  },
  {
   "cell_type": "markdown",
   "metadata": {},
   "source": [
    "При взвешивании значительно улучшилась полнота модели (около 23%), но сильно ухудшилась точность модели (примерно на 70%)."
   ]
  },
  {
   "cell_type": "code",
   "execution_count": 117,
   "metadata": {},
   "outputs": [
    {
     "output_type": "execute_result",
     "data": {
      "text/plain": "{'accuracy': 0.9995611109160493,\n 'precision': 0.9506172839506173,\n 'recall': 0.7857142857142857,\n 'f1': 0.8603351955307262}"
     },
     "metadata": {},
     "execution_count": 117
    }
   ],
   "source": [
    "from sklearn.ensemble import RandomForestClassifier\n",
    "clf_D = RandomForestClassifier(class_weight = 'balanced')\n",
    "test_model(clf_D, X_train, X_test, Y_train, Y_test)"
   ]
  },
  {
   "cell_type": "markdown",
   "metadata": {},
   "source": [
    "Взвешивание класса существенно не повлияло на эффективность модели."
   ]
  },
  {
   "cell_type": "markdown",
   "metadata": {},
   "source": [
    "# OverSampling и UnderSampling"
   ]
  },
  {
   "cell_type": "markdown",
   "metadata": {},
   "source": [
    "## Проведем oversampling\n",
    "С помощью дублирования сравняем количество мошеннических и честных транзакций. "
   ]
  },
  {
   "cell_type": "code",
   "execution_count": 128,
   "metadata": {},
   "outputs": [
    {
     "output_type": "execute_result",
     "data": {
      "text/plain": "1    227451\n0    227451\nName: Class, dtype: int64"
     },
     "metadata": {},
     "execution_count": 128
    }
   ],
   "source": [
    "from sklearn.utils import resample\n",
    "# Соберем в тренировочные данные в одну таблицу\n",
    "X = pd.concat([X_train, Y_train], axis=1)\n",
    "# Разделим честные и мошеннические транзакции\n",
    "not_fraud = X[X[\"Class\"]==0]\n",
    "fraud = X[X[\"Class\"]==1]\n",
    "# Увеличим число мошеннических транзакций до числа честных \n",
    "fraud_upsampled = resample(fraud, replace=True,\n",
    "n_samples=len(not_fraud))\n",
    "# Объединим результат в единую таблицу\n",
    "upsampled = pd.concat([not_fraud, fraud_upsampled])\n",
    "upsampled.Class.value_counts()"
   ]
  },
  {
   "cell_type": "code",
   "execution_count": 132,
   "metadata": {},
   "outputs": [],
   "source": [
    "# Получим множества для обучения моделей\n",
    "Y_train_upsampled = upsampled[\"Class\"]\n",
    "X_train_upsampled = upsampled.drop(\"Class\", axis=1)"
   ]
  },
  {
   "cell_type": "code",
   "execution_count": 133,
   "metadata": {},
   "outputs": [
    {
     "output_type": "execute_result",
     "data": {
      "text/plain": "{'accuracy': 0.9747902110178716,\n 'precision': 0.05812417437252312,\n 'recall': 0.8979591836734694,\n 'f1': 0.10918114143920594}"
     },
     "metadata": {},
     "execution_count": 133
    }
   ],
   "source": [
    "# Логистическая регрессия\n",
    "from sklearn.linear_model import LogisticRegression\n",
    "clf_A_upsampled = LogisticRegression()\n",
    "test_model(clf_A_upsampled, X_train_upsampled, X_test, Y_train_upsampled, Y_test)"
   ]
  },
  {
   "cell_type": "markdown",
   "metadata": {},
   "source": [
    "Получили практически такой же результат, как и при взвешивании классов. Мошеннических транзакций выявляется очень много, но алгоритм слишком часто классифицирует честные транзакции как мошеннические."
   ]
  },
  {
   "cell_type": "code",
   "execution_count": 135,
   "metadata": {},
   "outputs": [
    {
     "output_type": "execute_result",
     "data": {
      "text/plain": "{'accuracy': 0.9996313331694814,\n 'precision': 0.9529411764705882,\n 'recall': 0.826530612244898,\n 'f1': 0.8852459016393441}"
     },
     "metadata": {},
     "execution_count": 135
    }
   ],
   "source": [
    "from sklearn.ensemble import RandomForestClassifier\n",
    "clf_D_upsampled = RandomForestClassifier()\n",
    "test_model(clf_D_upsampled, X_train_upsampled, X_test, Y_train_upsampled, Y_test)"
   ]
  },
  {
   "cell_type": "markdown",
   "metadata": {},
   "source": [
    "Эффективность модели была немного улучшена при сравнении с результатами, полученными при простом применении модели и взвешивании классов. Возросла полнота модели (около 4%) при сохранении уровня точности (мошеннических транзакций выявилось больше)."
   ]
  },
  {
   "cell_type": "code",
   "execution_count": 136,
   "metadata": {},
   "outputs": [
    {
     "output_type": "execute_result",
     "data": {
      "text/plain": "{'accuracy': 0.9943646641620729,\n 'precision': 0.21914357682619648,\n 'recall': 0.8877551020408163,\n 'f1': 0.3515151515151515}"
     },
     "metadata": {},
     "execution_count": 136
    }
   ],
   "source": [
    "from sklearn.ensemble import GradientBoostingClassifier\n",
    "clf_B_upsampled = GradientBoostingClassifier()\n",
    "test_model(clf_B_upsampled, X_train_upsampled, X_test, Y_train_upsampled, Y_test)"
   ]
  },
  {
   "cell_type": "markdown",
   "metadata": {},
   "source": [
    "Получили значительное улучшение полноты модели (почти на 40%) при серьезном снижении точности."
   ]
  },
  {
   "cell_type": "markdown",
   "metadata": {},
   "source": [
    "## Проведем undersampling"
   ]
  },
  {
   "cell_type": "code",
   "execution_count": 137,
   "metadata": {},
   "outputs": [
    {
     "output_type": "execute_result",
     "data": {
      "text/plain": "1    394\n0    394\nName: Class, dtype: int64"
     },
     "metadata": {},
     "execution_count": 137
    }
   ],
   "source": [
    "not_fraud_downsampled = resample(not_fraud, replace=False, n_samples = len(fraud))\n",
    "downsampled = pd.concat([not_fraud_downsampled, fraud])\n",
    "downsampled.Class.value_counts()"
   ]
  },
  {
   "cell_type": "code",
   "execution_count": 138,
   "metadata": {},
   "outputs": [],
   "source": [
    "Y_train_downsampled = downsampled[\"Class\"]\n",
    "X_train_downsampled = downsampled.drop(\"Class\", axis=1)"
   ]
  },
  {
   "cell_type": "code",
   "execution_count": 139,
   "metadata": {},
   "outputs": [
    {
     "output_type": "execute_result",
     "data": {
      "text/plain": "{'accuracy': 0.9777219900986622,\n 'precision': 0.06533036377134373,\n 'recall': 0.8979591836734694,\n 'f1': 0.12179930795847752}"
     },
     "metadata": {},
     "execution_count": 139
    }
   ],
   "source": [
    "# Логистическая регрессия\n",
    "from sklearn.linear_model import LogisticRegression\n",
    "clf_A_downsampled = LogisticRegression()\n",
    "test_model(clf_A_downsampled, X_train_downsampled, X_test, Y_train_downsampled, Y_test)"
   ]
  },
  {
   "cell_type": "markdown",
   "metadata": {},
   "source": [
    "Эффективность модели практически такая же, как при взвешивании класса и oversampling'е."
   ]
  },
  {
   "cell_type": "code",
   "execution_count": 140,
   "metadata": {},
   "outputs": [
    {
     "output_type": "execute_result",
     "data": {
      "text/plain": "{'accuracy': 0.9755802113689829,\n 'precision': 0.059904697072838665,\n 'recall': 0.8979591836734694,\n 'f1': 0.11231652839821316}"
     },
     "metadata": {},
     "execution_count": 140
    }
   ],
   "source": [
    "from sklearn.ensemble import RandomForestClassifier\n",
    "clf_D_downsampled = RandomForestClassifier()\n",
    "test_model(clf_D_downsampled, X_train_downsampled, X_test, Y_train_downsampled, Y_test)"
   ]
  },
  {
   "cell_type": "markdown",
   "metadata": {},
   "source": [
    "По сравнению с oversempling'ом примерно на 7% выросла полнота, но точность уменьшилась на 90%."
   ]
  },
  {
   "cell_type": "code",
   "execution_count": 141,
   "metadata": {},
   "outputs": [
    {
     "output_type": "execute_result",
     "data": {
      "text/plain": "{'accuracy': 0.9558126470278431,\n 'precision': 0.03462870334744132,\n 'recall': 0.9183673469387755,\n 'f1': 0.06674082313681869}"
     },
     "metadata": {},
     "execution_count": 141
    }
   ],
   "source": [
    "from sklearn.ensemble import GradientBoostingClassifier\n",
    "clf_B_downsampled = GradientBoostingClassifier()\n",
    "test_model(clf_B_downsampled, X_train_downsampled, X_test, Y_train_downsampled, Y_test)"
   ]
  },
  {
   "cell_type": "markdown",
   "metadata": {},
   "source": [
    "По сравнению с oversempling'ом примерно на 3% выросла полнота, но точность уменьшилась на 18%."
   ]
  },
  {
   "cell_type": "markdown",
   "metadata": {},
   "source": [
    "# Выводы\n",
    "- В результате проведенного исследования можно сказать, что наилучшим образом подходит модель Random Forest с применением к обучающим данным oversampling'a. Полнота модели 83%, точность 95%. \n",
    "- Также были обнаружены модели, полнота которых около 90%, но точность при этом катастрофически низкая (в лучшем случае 20%)."
   ]
  },
  {
   "cell_type": "code",
   "execution_count": 142,
   "metadata": {},
   "outputs": [
    {
     "output_type": "execute_result",
     "data": {
      "text/plain": "['[NbConvertApp] Converting notebook Task.ipynb to html',\n '[NbConvertApp] Writing 323956 bytes to Task.html']"
     },
     "metadata": {},
     "execution_count": 142
    }
   ],
   "source": [
    "!!jupyter nbconvert *.ipynb"
   ]
  },
  {
   "cell_type": "code",
   "execution_count": null,
   "metadata": {},
   "outputs": [],
   "source": []
  }
 ]
}